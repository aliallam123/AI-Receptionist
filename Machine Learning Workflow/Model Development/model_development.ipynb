{
 "cells": [
  {
   "cell_type": "markdown",
   "id": "1240138e",
   "metadata": {},
   "source": [
    "# Model Development"
   ]
  },
  {
   "cell_type": "markdown",
   "id": "6b1f1ade",
   "metadata": {},
   "source": [
    "1️⃣ Objective\n",
    "\n",
    "Demonstrate how the AI receptionist learns to predict the most appropriate system response (classification task).\n",
    "\n",
    "You’ll build multiple models to show progressive improvement and compare performance."
   ]
  },
  {
   "cell_type": "markdown",
   "id": "2aed4724",
   "metadata": {},
   "source": [
    "| Model                   | Technique                    | Purpose                                                          |\n",
    "| ----------------------- | ---------------------------- | ---------------------------------------------------------------- |\n",
    "| **Baseline**            | TF-IDF + Linear Regression   | Establish a numeric baseline accuracy (simple, no hyper-tuning). |\n",
    "| **Mid Model**           | TF-IDF + Logistic Regression | Core classical ML classifier — interpretable, scalable.          |\n",
    "| **Advanced (optional)** | Neural Seq2Seq / Transformer | Text-generation or intent prediction — for top marks.            |\n"
   ]
  },
  {
   "cell_type": "markdown",
   "id": "bb4d35f4",
   "metadata": {},
   "source": [
    "# 1) Baseline Model\n",
    "### TF-IDF + Linear Regression"
   ]
  },
  {
   "cell_type": "code",
   "execution_count": 1,
   "id": "aeb52b11",
   "metadata": {},
   "outputs": [
    {
     "data": {
      "application/vnd.microsoft.datawrangler.viewer.v0+json": {
       "columns": [
        {
         "name": "index",
         "rawType": "int64",
         "type": "integer"
        },
        {
         "name": "dialogue_id",
         "rawType": "object",
         "type": "string"
        },
        {
         "name": "context",
         "rawType": "object",
         "type": "string"
        },
        {
         "name": "response",
         "rawType": "object",
         "type": "string"
        },
        {
         "name": "domain",
         "rawType": "object",
         "type": "string"
        },
        {
         "name": "user_intents",
         "rawType": "object",
         "type": "string"
        },
        {
         "name": "user_slots",
         "rawType": "object",
         "type": "string"
        }
       ],
       "ref": "6d6f32dc-823c-48d4-9c13-3bbece71424e",
       "rows": [
        [
         "3516",
         "MUL2086.json",
         "no, that will be all, thanks.",
         "thank you for using our service and enjoy your visit. goodbye.",
         "train, hotel",
         "[]",
         "{'hotel-internet': 'yes', 'hotel-name': 'gonville hotel', 'hotel-parking': 'yes', 'hotel-pricerange': 'expensive', 'hotel-stars': '3', 'train-bookpeople': '1', 'train-day': 'monday', 'train-departure': 'cambridge', 'train-destination': 'broxbourne', 'train-leaveat': '22:01'}"
        ],
        [
         "3867",
         "MUL2074.json",
         "nope, that's all i need today. thanks for your help. goodbye!",
         "glad to have been of service, have a great day!",
         "train, hotel",
         "[]",
         "{'hotel-bookday': 'friday', 'hotel-bookpeople': '4', 'hotel-bookstay': '2', 'hotel-name': 'home from home', 'train-arriveby': '08:45', 'train-bookpeople': '4', 'train-day': 'sunday', 'train-departure': 'cambridge', 'train-destination': 'kings lynn'}"
        ],
        [
         "5422",
         "MUL1273.json",
         "ok, that's ok. i'll take care of it later. thanks so much. good day to you. bye.",
         "have a nice day.",
         "restaurant, hotel",
         "[]",
         "{'restaurant-area': 'centre', 'restaurant-bookday': 'thursday', 'restaurant-bookpeople': '2', 'restaurant-booktime': ['19:00', '7 pm'], 'restaurant-food': 'modern european', 'restaurant-name': 'riverside brasserie', 'restaurant-pricerange': 'moderate', 'hotel-area': 'north', 'hotel-bookday': 'wednesday', 'hotel-bookstay': '3', 'hotel-internet': 'no', 'hotel-name': 'alpha-milton guest house', 'hotel-parking': 'no', 'hotel-pricerange': 'moderate', 'hotel-stars': '3', 'hotel-type': 'guesthouse'}"
        ]
       ],
       "shape": {
        "columns": 6,
        "rows": 3
       }
      },
      "text/html": [
       "<div>\n",
       "<style scoped>\n",
       "    .dataframe tbody tr th:only-of-type {\n",
       "        vertical-align: middle;\n",
       "    }\n",
       "\n",
       "    .dataframe tbody tr th {\n",
       "        vertical-align: top;\n",
       "    }\n",
       "\n",
       "    .dataframe thead th {\n",
       "        text-align: right;\n",
       "    }\n",
       "</style>\n",
       "<table border=\"1\" class=\"dataframe\">\n",
       "  <thead>\n",
       "    <tr style=\"text-align: right;\">\n",
       "      <th></th>\n",
       "      <th>dialogue_id</th>\n",
       "      <th>context</th>\n",
       "      <th>response</th>\n",
       "      <th>domain</th>\n",
       "      <th>user_intents</th>\n",
       "      <th>user_slots</th>\n",
       "    </tr>\n",
       "  </thead>\n",
       "  <tbody>\n",
       "    <tr>\n",
       "      <th>3516</th>\n",
       "      <td>MUL2086.json</td>\n",
       "      <td>no, that will be all, thanks.</td>\n",
       "      <td>thank you for using our service and enjoy your...</td>\n",
       "      <td>train, hotel</td>\n",
       "      <td>[]</td>\n",
       "      <td>{'hotel-internet': 'yes', 'hotel-name': 'gonvi...</td>\n",
       "    </tr>\n",
       "    <tr>\n",
       "      <th>3867</th>\n",
       "      <td>MUL2074.json</td>\n",
       "      <td>nope, that's all i need today. thanks for your...</td>\n",
       "      <td>glad to have been of service, have a great day!</td>\n",
       "      <td>train, hotel</td>\n",
       "      <td>[]</td>\n",
       "      <td>{'hotel-bookday': 'friday', 'hotel-bookpeople'...</td>\n",
       "    </tr>\n",
       "    <tr>\n",
       "      <th>5422</th>\n",
       "      <td>MUL1273.json</td>\n",
       "      <td>ok, that's ok. i'll take care of it later. tha...</td>\n",
       "      <td>have a nice day.</td>\n",
       "      <td>restaurant, hotel</td>\n",
       "      <td>[]</td>\n",
       "      <td>{'restaurant-area': 'centre', 'restaurant-book...</td>\n",
       "    </tr>\n",
       "  </tbody>\n",
       "</table>\n",
       "</div>"
      ],
      "text/plain": [
       "       dialogue_id                                            context  \\\n",
       "3516  MUL2086.json                      no, that will be all, thanks.   \n",
       "3867  MUL2074.json  nope, that's all i need today. thanks for your...   \n",
       "5422  MUL1273.json  ok, that's ok. i'll take care of it later. tha...   \n",
       "\n",
       "                                               response             domain  \\\n",
       "3516  thank you for using our service and enjoy your...       train, hotel   \n",
       "3867    glad to have been of service, have a great day!       train, hotel   \n",
       "5422                                   have a nice day.  restaurant, hotel   \n",
       "\n",
       "     user_intents                                         user_slots  \n",
       "3516           []  {'hotel-internet': 'yes', 'hotel-name': 'gonvi...  \n",
       "3867           []  {'hotel-bookday': 'friday', 'hotel-bookpeople'...  \n",
       "5422           []  {'restaurant-area': 'centre', 'restaurant-book...  "
      ]
     },
     "execution_count": 1,
     "metadata": {},
     "output_type": "execute_result"
    }
   ],
   "source": [
    "# Let's begin by reading in the three data splits we cleaned from the data preprocessing step:\n",
    "# https://www.w3schools.com/python/pandas/pandas_csv.asp\n",
    "import pandas as pd\n",
    "\n",
    "train_pairs_df = pd.read_csv('train_pairs_df.csv')\n",
    "val_pairs_df = pd.read_csv('val_pairs_df.csv')\n",
    "test_pairs_df = pd.read_csv('test_pairs_df.csv')\n",
    "\n",
    "#check it's working\n",
    "test_pairs_df.sample(3)"
   ]
  },
  {
   "cell_type": "markdown",
   "id": "d5607f79",
   "metadata": {},
   "source": [
    "We will begin by using TfidfVectorizer from scikit learn to transform the context column to numeric vectors:\n",
    "\n",
    "I will be following the official scikit learn documentation: https://scikit-learn.org/stable/modules/generated/sklearn.feature_extraction.text.TfidfVectorizer.html"
   ]
  },
  {
   "cell_type": "code",
   "execution_count": 9,
   "id": "60362651",
   "metadata": {},
   "outputs": [
    {
     "name": "stdout",
     "output_type": "stream",
     "text": [
      "['pre' 'prefer' 'preferable' 'preferably' 'preference' 'preferred'\n",
      " 'pretty' 'previously' 'prezzo' 'price' 'priced' 'prices' 'pricy' 'prince'\n",
      " 'probably' 'problem' 'professional' 'promised' 'promising' 'proper'\n",
      " 'property' 'provide' 'provides' 'psychic' 'punter' 'put' 'quality'\n",
      " 'question' 'questions' 'quickly' 'quite' 'quote' 'raise' 'rajmahal'\n",
      " 'random' 'range' 'ranges' 'rated' 'rates' 'rather']\n",
      "(5776, 1495)\n"
     ]
    }
   ],
   "source": [
    "from sklearn.feature_extraction.text import TfidfVectorizer\n",
    "\n",
    "vectorizer = TfidfVectorizer()\n",
    "X = vectorizer.fit_transform(test_pairs_df[\"context\"])\n",
    "print(vectorizer.get_feature_names_out()[1000:1040])\n",
    "print(X.shape)"
   ]
  },
  {
   "cell_type": "markdown",
   "id": "0cef3abd",
   "metadata": {},
   "source": [
    "for .shape the first number is the number of rows and second number is number of words so:\n",
    "\n",
    "5,776 context messages × 1,495 unique words → each context turned into a 1,495-dimensional numeric vector."
   ]
  },
  {
   "cell_type": "code",
   "execution_count": null,
   "id": "8f3a8fb6",
   "metadata": {},
   "outputs": [],
   "source": []
  },
  {
   "cell_type": "markdown",
   "id": "e1bfe3bc",
   "metadata": {},
   "source": []
  }
 ],
 "metadata": {
  "kernelspec": {
   "display_name": "Python 3",
   "language": "python",
   "name": "python3"
  },
  "language_info": {
   "codemirror_mode": {
    "name": "ipython",
    "version": 3
   },
   "file_extension": ".py",
   "mimetype": "text/x-python",
   "name": "python",
   "nbconvert_exporter": "python",
   "pygments_lexer": "ipython3",
   "version": "3.11.9"
  }
 },
 "nbformat": 4,
 "nbformat_minor": 5
}
